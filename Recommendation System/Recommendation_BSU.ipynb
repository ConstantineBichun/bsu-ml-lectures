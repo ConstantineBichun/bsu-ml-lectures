{
 "cells": [
  {
   "cell_type": "code",
   "execution_count": 1,
   "id": "f63814d0",
   "metadata": {},
   "outputs": [],
   "source": [
    "import pandas as pd\n",
    "import numpy as np\n",
    "from scipy import sparse\n",
    "from sklearn.preprocessing import normalize\n",
    "import os"
   ]
  },
  {
   "cell_type": "code",
   "execution_count": 2,
   "id": "39b4961a",
   "metadata": {},
   "outputs": [],
   "source": [
    "A = np.array([\n",
    "    [0, 0, 100, 0, 0, 5],\n",
    "    [0, 1, 0, 10, 0, 20],\n",
    "    [0, 0, 20, 0, 0, 120],\n",
    "    [0, 100, 100, 0, 0, 10],\n",
    "    [0, 30, 12, 6, 13, 17]\n",
    "])\n",
    "\n",
    "A_norm = normalize(A, norm='l2', axis=1)"
   ]
  },
  {
   "cell_type": "code",
   "execution_count": 3,
   "id": "a121b5dd",
   "metadata": {},
   "outputs": [
    {
     "data": {
      "text/plain": [
       "[array([0, 3, 4, 2, 1]),\n",
       " array([1, 2, 4, 3, 0]),\n",
       " array([2, 1, 4, 0, 3]),\n",
       " array([3, 4, 0, 2, 1]),\n",
       " array([4, 3, 1, 2, 0])]"
      ]
     },
     "execution_count": 3,
     "metadata": {},
     "output_type": "execute_result"
    }
   ],
   "source": [
    "[ x.argsort()[::-1] for x in np.dot(A_norm, A_norm.T)]"
   ]
  },
  {
   "cell_type": "code",
   "execution_count": 4,
   "id": "772708ef",
   "metadata": {},
   "outputs": [
    {
     "data": {
      "text/plain": [
       "[array([2, 1, 5, 4, 3, 0]),\n",
       " array([5, 3, 1, 2, 4, 0]),\n",
       " array([5, 2, 1, 3, 4, 0]),\n",
       " array([2, 1, 5, 4, 3, 0]),\n",
       " array([5, 1, 2, 3, 4, 0])]"
      ]
     },
     "execution_count": 4,
     "metadata": {},
     "output_type": "execute_result"
    }
   ],
   "source": [
    "[ x.argsort()[::-1] for x in np.dot(np.dot(A_norm, A_norm.T) , A_norm)]"
   ]
  },
  {
   "cell_type": "markdown",
   "id": "c9b0bc80",
   "metadata": {},
   "source": [
    " "
   ]
  },
  {
   "cell_type": "markdown",
   "id": "15f64638",
   "metadata": {},
   "source": [
    " "
   ]
  },
  {
   "cell_type": "markdown",
   "id": "54d405f4",
   "metadata": {},
   "source": [
    " "
   ]
  },
  {
   "cell_type": "markdown",
   "id": "7682141d",
   "metadata": {},
   "source": [
    " "
   ]
  },
  {
   "cell_type": "markdown",
   "id": "e9c7d4f6",
   "metadata": {},
   "source": [
    " # Music recommender system example"
   ]
  },
  {
   "cell_type": "code",
   "execution_count": 5,
   "id": "6a7d84ed-9eaa-454d-88ca-e2225d4730d6",
   "metadata": {},
   "outputs": [],
   "source": [
    "interactions_path = os.path.join(\"archive\", \"lastfm_user_scrobbles.csv\")\n",
    "titles_path = os.path.join(\"archive\", \"lastfm_artist_list.csv\")"
   ]
  },
  {
   "cell_type": "code",
   "execution_count": 6,
   "id": "19e8822b",
   "metadata": {},
   "outputs": [],
   "source": [
    "interactions_df = pd.read_csv(interactions_path)\n",
    "titles_df = pd.read_csv(titles_path)"
   ]
  },
  {
   "cell_type": "code",
   "execution_count": 7,
   "id": "3ce66b45",
   "metadata": {},
   "outputs": [
    {
     "data": {
      "text/html": [
       "<div>\n",
       "<style scoped>\n",
       "    .dataframe tbody tr th:only-of-type {\n",
       "        vertical-align: middle;\n",
       "    }\n",
       "\n",
       "    .dataframe tbody tr th {\n",
       "        vertical-align: top;\n",
       "    }\n",
       "\n",
       "    .dataframe thead th {\n",
       "        text-align: right;\n",
       "    }\n",
       "</style>\n",
       "<table border=\"1\" class=\"dataframe\">\n",
       "  <thead>\n",
       "    <tr style=\"text-align: right;\">\n",
       "      <th></th>\n",
       "      <th>user_id</th>\n",
       "      <th>artist_id</th>\n",
       "      <th>scrobbles</th>\n",
       "    </tr>\n",
       "  </thead>\n",
       "  <tbody>\n",
       "    <tr>\n",
       "      <th>0</th>\n",
       "      <td>1</td>\n",
       "      <td>4562</td>\n",
       "      <td>13883</td>\n",
       "    </tr>\n",
       "    <tr>\n",
       "      <th>1</th>\n",
       "      <td>1</td>\n",
       "      <td>10191</td>\n",
       "      <td>11690</td>\n",
       "    </tr>\n",
       "    <tr>\n",
       "      <th>2</th>\n",
       "      <td>1</td>\n",
       "      <td>494</td>\n",
       "      <td>11351</td>\n",
       "    </tr>\n",
       "    <tr>\n",
       "      <th>3</th>\n",
       "      <td>1</td>\n",
       "      <td>6673</td>\n",
       "      <td>10300</td>\n",
       "    </tr>\n",
       "    <tr>\n",
       "      <th>4</th>\n",
       "      <td>1</td>\n",
       "      <td>8402</td>\n",
       "      <td>8983</td>\n",
       "    </tr>\n",
       "    <tr>\n",
       "      <th>...</th>\n",
       "      <td>...</td>\n",
       "      <td>...</td>\n",
       "      <td>...</td>\n",
       "    </tr>\n",
       "    <tr>\n",
       "      <th>92787</th>\n",
       "      <td>1892</td>\n",
       "      <td>10098</td>\n",
       "      <td>278</td>\n",
       "    </tr>\n",
       "    <tr>\n",
       "      <th>92788</th>\n",
       "      <td>1892</td>\n",
       "      <td>8660</td>\n",
       "      <td>263</td>\n",
       "    </tr>\n",
       "    <tr>\n",
       "      <th>92789</th>\n",
       "      <td>1892</td>\n",
       "      <td>3274</td>\n",
       "      <td>258</td>\n",
       "    </tr>\n",
       "    <tr>\n",
       "      <th>92790</th>\n",
       "      <td>1892</td>\n",
       "      <td>4240</td>\n",
       "      <td>232</td>\n",
       "    </tr>\n",
       "    <tr>\n",
       "      <th>92791</th>\n",
       "      <td>1892</td>\n",
       "      <td>10842</td>\n",
       "      <td>228</td>\n",
       "    </tr>\n",
       "  </tbody>\n",
       "</table>\n",
       "<p>92792 rows × 3 columns</p>\n",
       "</div>"
      ],
      "text/plain": [
       "       user_id  artist_id  scrobbles\n",
       "0            1       4562      13883\n",
       "1            1      10191      11690\n",
       "2            1        494      11351\n",
       "3            1       6673      10300\n",
       "4            1       8402       8983\n",
       "...        ...        ...        ...\n",
       "92787     1892      10098        278\n",
       "92788     1892       8660        263\n",
       "92789     1892       3274        258\n",
       "92790     1892       4240        232\n",
       "92791     1892      10842        228\n",
       "\n",
       "[92792 rows x 3 columns]"
      ]
     },
     "execution_count": 7,
     "metadata": {},
     "output_type": "execute_result"
    }
   ],
   "source": [
    "interactions_df"
   ]
  },
  {
   "cell_type": "code",
   "execution_count": 8,
   "id": "088ff4df",
   "metadata": {},
   "outputs": [
    {
     "data": {
      "text/html": [
       "<div>\n",
       "<style scoped>\n",
       "    .dataframe tbody tr th:only-of-type {\n",
       "        vertical-align: middle;\n",
       "    }\n",
       "\n",
       "    .dataframe tbody tr th {\n",
       "        vertical-align: top;\n",
       "    }\n",
       "\n",
       "    .dataframe thead th {\n",
       "        text-align: right;\n",
       "    }\n",
       "</style>\n",
       "<table border=\"1\" class=\"dataframe\">\n",
       "  <thead>\n",
       "    <tr style=\"text-align: right;\">\n",
       "      <th></th>\n",
       "      <th>artist_id</th>\n",
       "      <th>artist_name</th>\n",
       "    </tr>\n",
       "  </thead>\n",
       "  <tbody>\n",
       "    <tr>\n",
       "      <th>0</th>\n",
       "      <td>1</td>\n",
       "      <td>__Max__</td>\n",
       "    </tr>\n",
       "    <tr>\n",
       "      <th>1</th>\n",
       "      <td>2</td>\n",
       "      <td>_Algol_</td>\n",
       "    </tr>\n",
       "    <tr>\n",
       "      <th>2</th>\n",
       "      <td>3</td>\n",
       "      <td>-123 Min.</td>\n",
       "    </tr>\n",
       "    <tr>\n",
       "      <th>3</th>\n",
       "      <td>4</td>\n",
       "      <td>-Oz-</td>\n",
       "    </tr>\n",
       "    <tr>\n",
       "      <th>4</th>\n",
       "      <td>5</td>\n",
       "      <td>-T De Sangre</td>\n",
       "    </tr>\n",
       "    <tr>\n",
       "      <th>...</th>\n",
       "      <td>...</td>\n",
       "      <td>...</td>\n",
       "    </tr>\n",
       "    <tr>\n",
       "      <th>17488</th>\n",
       "      <td>17489</td>\n",
       "      <td>鷺巣詩郎</td>\n",
       "    </tr>\n",
       "    <tr>\n",
       "      <th>17489</th>\n",
       "      <td>17490</td>\n",
       "      <td>黃立行</td>\n",
       "    </tr>\n",
       "    <tr>\n",
       "      <th>17490</th>\n",
       "      <td>17491</td>\n",
       "      <td>黄义达</td>\n",
       "    </tr>\n",
       "    <tr>\n",
       "      <th>17491</th>\n",
       "      <td>17492</td>\n",
       "      <td>黒木メイサ</td>\n",
       "    </tr>\n",
       "    <tr>\n",
       "      <th>17492</th>\n",
       "      <td>17493</td>\n",
       "      <td>鼓童</td>\n",
       "    </tr>\n",
       "  </tbody>\n",
       "</table>\n",
       "<p>17493 rows × 2 columns</p>\n",
       "</div>"
      ],
      "text/plain": [
       "       artist_id   artist_name\n",
       "0              1       __Max__\n",
       "1              2       _Algol_\n",
       "2              3     -123 Min.\n",
       "3              4          -Oz-\n",
       "4              5  -T De Sangre\n",
       "...          ...           ...\n",
       "17488      17489          鷺巣詩郎\n",
       "17489      17490           黃立行\n",
       "17490      17491           黄义达\n",
       "17491      17492         黒木メイサ\n",
       "17492      17493            鼓童\n",
       "\n",
       "[17493 rows x 2 columns]"
      ]
     },
     "execution_count": 8,
     "metadata": {},
     "output_type": "execute_result"
    }
   ],
   "source": [
    "titles_df"
   ]
  },
  {
   "cell_type": "code",
   "execution_count": 9,
   "id": "9b0f5d50",
   "metadata": {},
   "outputs": [],
   "source": [
    "titles_df.index = titles_df['artist_id']\n",
    "title_dict = titles_df['artist_name'].to_dict()"
   ]
  },
  {
   "cell_type": "code",
   "execution_count": 10,
   "id": "5cbbe6f3",
   "metadata": {},
   "outputs": [],
   "source": [
    "rows, r_pos = np.unique(interactions_df.values[:,0], return_inverse=True)\n",
    "cols, c_pos = np.unique(interactions_df.values[:,1], return_inverse=True)\n",
    "interactions_sparse = sparse.csr_matrix((interactions_df.values[:,2],(r_pos,  c_pos)))"
   ]
  },
  {
   "cell_type": "code",
   "execution_count": 11,
   "id": "a9a1fae9",
   "metadata": {},
   "outputs": [
    {
     "data": {
      "text/plain": [
       "(1892, 17493)"
      ]
     },
     "execution_count": 11,
     "metadata": {},
     "output_type": "execute_result"
    }
   ],
   "source": [
    "interactions_sparse.shape"
   ]
  },
  {
   "cell_type": "code",
   "execution_count": 12,
   "id": "68d72cb0",
   "metadata": {},
   "outputs": [
    {
     "data": {
      "text/plain": [
       "<1892x17493 sparse matrix of type '<class 'numpy.float64'>'\n",
       "\twith 92723 stored elements in Compressed Sparse Row format>"
      ]
     },
     "execution_count": 12,
     "metadata": {},
     "output_type": "execute_result"
    }
   ],
   "source": [
    "sparse.csr_matrix(\n",
    "    interactions_df.pivot_table(\n",
    "        values='scrobbles', \n",
    "        index='user_id', \n",
    "        columns='artist_id').fillna(0)\n",
    ")"
   ]
  },
  {
   "cell_type": "code",
   "execution_count": 13,
   "id": "616dc245",
   "metadata": {},
   "outputs": [],
   "source": [
    "Pui = normalize(interactions_sparse, norm='l2', axis=1)\n",
    "sim = Pui.T * Pui"
   ]
  },
  {
   "cell_type": "code",
   "execution_count": 14,
   "id": "320560b1",
   "metadata": {},
   "outputs": [
    {
     "data": {
      "text/plain": [
       "matrix([[0.00120405, 0.        , 0.        , ..., 0.        , 0.        ,\n",
       "         0.        ],\n",
       "        [0.        , 0.00258841, 0.        , ..., 0.        , 0.        ,\n",
       "         0.        ],\n",
       "        [0.        , 0.        , 0.00383689, ..., 0.        , 0.        ,\n",
       "         0.        ],\n",
       "        ...,\n",
       "        [0.        , 0.        , 0.        , ..., 0.0228355 , 0.        ,\n",
       "         0.        ],\n",
       "        [0.        , 0.        , 0.        , ..., 0.        , 0.00827076,\n",
       "         0.        ],\n",
       "        [0.        , 0.        , 0.        , ..., 0.        , 0.        ,\n",
       "         0.0010429 ]])"
      ]
     },
     "execution_count": 14,
     "metadata": {},
     "output_type": "execute_result"
    }
   ],
   "source": [
    "sim.todense()"
   ]
  },
  {
   "cell_type": "code",
   "execution_count": 24,
   "id": "e9f1fb96",
   "metadata": {},
   "outputs": [
    {
     "name": "stdout",
     "output_type": "stream",
     "text": [
      "Coldplay\n"
     ]
    }
   ],
   "source": [
    "list_artist = [x for x in title_dict.values() if 'ColdPlay'.upper() in x.upper()]\n",
    "if len(list_artist) >= 1:\n",
    "    artist = list_artist[0]\n",
    "    print(artist)\n",
    "else:\n",
    "    print(\"Name is not avalible!\")"
   ]
  },
  {
   "cell_type": "code",
   "execution_count": 16,
   "id": "acb2dfb0",
   "metadata": {},
   "outputs": [
    {
     "data": {
      "text/plain": [
       "['Snow Patrol',\n",
       " 'Green Day',\n",
       " 'Sigur Ros',\n",
       " 'Madonna',\n",
       " 'The Strokes',\n",
       " 'Lady Gaga',\n",
       " 'Placebo',\n",
       " 'Britney Spears',\n",
       " 'Kings Of Leon',\n",
       " 'Keane',\n",
       " 'U2',\n",
       " 'Arctic Monkeys',\n",
       " 'Depeche Mode',\n",
       " 'Oasis',\n",
       " 'Paramore',\n",
       " 'The Beatles',\n",
       " 'The Killers',\n",
       " 'Muse',\n",
       " 'Radiohead',\n",
       " 'Coldplay']"
      ]
     },
     "execution_count": 16,
     "metadata": {},
     "output_type": "execute_result"
    }
   ],
   "source": [
    "# a = str(input('Enter an artist name to show recommendations: '))\n",
    "a = artist\n",
    "numb = titles_df[titles_df['artist_name']==a].index[0]\n",
    "\n",
    "[title_dict[i+1] for i in sim[numb-1].toarray().argsort()[0][-20:]]"
   ]
  },
  {
   "cell_type": "code",
   "execution_count": 17,
   "id": "ea271c54",
   "metadata": {},
   "outputs": [
    {
     "name": "stdout",
     "output_type": "stream",
     "text": [
      "CPU times: user 633 ms, sys: 72 ms, total: 705 ms\n",
      "Wall time: 754 ms\n"
     ]
    }
   ],
   "source": [
    "%%time\n",
    "fit = Pui * Pui.T * Pui"
   ]
  },
  {
   "cell_type": "code",
   "execution_count": 18,
   "id": "f4f8ad57",
   "metadata": {},
   "outputs": [
    {
     "data": {
      "text/plain": [
       "<1892x17493 sparse matrix of type '<class 'numpy.float64'>'\n",
       "\twith 18946119 stored elements in Compressed Sparse Row format>"
      ]
     },
     "execution_count": 18,
     "metadata": {},
     "output_type": "execute_result"
    }
   ],
   "source": [
    "fit"
   ]
  },
  {
   "cell_type": "code",
   "execution_count": 19,
   "id": "b2ea06e5",
   "metadata": {},
   "outputs": [],
   "source": [
    "client_numb = 1520\n",
    "init_set = set([title_dict[i+1] for i in np.nonzero(interactions_sparse[client_numb])[1].tolist()])\n",
    "predictied_set = set([title_dict[i+1] for i in fit[client_numb].toarray().argsort()[0][-70:].tolist()])"
   ]
  },
  {
   "cell_type": "code",
   "execution_count": 20,
   "id": "6bd3c5fc",
   "metadata": {},
   "outputs": [
    {
     "data": {
      "text/plain": [
       "{'311',\n",
       " 'Aj Mclean',\n",
       " 'Alanis Morissette',\n",
       " 'Alice In Chains',\n",
       " 'Arctic Monkeys',\n",
       " 'Backstreet Boys',\n",
       " 'Brandon Boyd',\n",
       " 'Britney Spears',\n",
       " 'Cansei De Ser Sexy',\n",
       " 'Daft Punk',\n",
       " 'David Bowie',\n",
       " 'Death Cab For Cutie',\n",
       " 'Fischerspooner',\n",
       " 'Franz Ferdinand',\n",
       " 'Gossip',\n",
       " 'Hot Hot Heat',\n",
       " 'Imogen Heap',\n",
       " 'Incubus',\n",
       " 'Indochine',\n",
       " 'Interpol',\n",
       " 'Jason Castro',\n",
       " 'John Frusciante',\n",
       " 'John Mayer',\n",
       " 'Justin Timberlake',\n",
       " 'Kings Of Leon',\n",
       " 'Klaxons',\n",
       " 'Lady Gaga',\n",
       " 'Ladytron',\n",
       " 'Madonna',\n",
       " 'Mcfly',\n",
       " 'Metric',\n",
       " 'Morrissey',\n",
       " 'Muse',\n",
       " 'Nick Carter',\n",
       " 'Nirvana',\n",
       " 'Pendulum',\n",
       " 'Placebo',\n",
       " 'Queens Of The Stone Age',\n",
       " 'R.Sigma',\n",
       " 'Radiohead',\n",
       " 'Rammstein',\n",
       " 'Red Hot Chili Peppers',\n",
       " 'Silverchair',\n",
       " 'Slipknot',\n",
       " 'The Beatles',\n",
       " 'The Cure',\n",
       " 'The Smashing Pumpkins',\n",
       " 'The Smiths',\n",
       " 'The Strokes',\n",
       " 'Yeah Yeah Yeahs'}"
      ]
     },
     "execution_count": 20,
     "metadata": {},
     "output_type": "execute_result"
    }
   ],
   "source": [
    "init_set"
   ]
  },
  {
   "cell_type": "code",
   "execution_count": 21,
   "id": "723289e8",
   "metadata": {},
   "outputs": [
    {
     "data": {
      "text/plain": [
       "{'30 Seconds To Mars',\n",
       " 'Amy Winehouse',\n",
       " 'Arcade Fire',\n",
       " 'Avril Lavigne',\n",
       " 'Beyonce',\n",
       " 'Björk',\n",
       " 'Blink-182',\n",
       " 'Blur',\n",
       " 'Christina Aguilera',\n",
       " 'Coldplay',\n",
       " 'Crystal Castles',\n",
       " 'Depeche Mode',\n",
       " 'Elliott Smith',\n",
       " 'Evanescence',\n",
       " 'Florence + The Machine',\n",
       " 'Foo Fighters',\n",
       " 'Glee Cast',\n",
       " 'Green Day',\n",
       " 'Joy Division',\n",
       " 'Katy Perry',\n",
       " 'Ke$Ha',\n",
       " 'Kylie Minogue',\n",
       " 'Lily Allen',\n",
       " 'Linkin Park',\n",
       " 'Los Hermanos',\n",
       " 'Mariah Carey',\n",
       " 'Metallica',\n",
       " 'Mgmt',\n",
       " 'Michael Jackson',\n",
       " 'Miley Cyrus',\n",
       " 'My Chemical Romance',\n",
       " 'Nine Inch Nails',\n",
       " 'Oasis',\n",
       " 'Paramore',\n",
       " 'Pearl Jam',\n",
       " 'Pink Floyd',\n",
       " 'Rihanna',\n",
       " 'Shakira',\n",
       " 'Sigur Ros',\n",
       " 'System Of A Down',\n",
       " 'The Killers',\n",
       " 'The Kooks',\n",
       " 'U2'}"
      ]
     },
     "execution_count": 21,
     "metadata": {},
     "output_type": "execute_result"
    }
   ],
   "source": [
    "predictied_set - init_set"
   ]
  },
  {
   "cell_type": "markdown",
   "id": "0316394f",
   "metadata": {},
   "source": [
    "# Quality Metrics"
   ]
  },
  {
   "cell_type": "markdown",
   "id": "bff0f8a7-0bd9-439c-b4b6-691181695747",
   "metadata": {},
   "source": [
    "**Normalized Discounted Cumulative Gain**  \n",
    "This metric cares about position.  \n",
    "Relevant items at the top = better score.  \n",
    "Relevant items far down = lower score.  \n",
    "Helps check if the system puts important things first.\n"
   ]
  },
  {
   "cell_type": "markdown",
   "id": "13c150c5-e48c-4a73-bd26-bbb7a0342ede",
   "metadata": {},
   "source": [
    "**Mean Average Precision**  \n",
    "Shows how well the system recommends relevant items on average.  \n",
    "If relevant items appear at the top of the list — MAP is high.  \n",
    "If they’re scattered or appear too late — MAP drops."
   ]
  },
  {
   "cell_type": "markdown",
   "id": "1b38e1b4-1d82-4fc1-9fc0-a0d151386bf6",
   "metadata": {},
   "source": [
    "**Hit Rate**  \n",
    "The simplest metric:  \n",
    "Did the system manage to recommend at least one good item?  \n",
    "If yes — it's a hit.  \n",
    "If no — it's a miss.  \n",
    "Doesn't care about position — just “did we hit or not?”"
   ]
  },
  {
   "cell_type": "markdown",
   "id": "bf9bd310-05fa-4ceb-bba9-6ef09e3dfe1f",
   "metadata": {},
   "source": [
    "# Conclusion"
   ]
  },
  {
   "cell_type": "markdown",
   "id": "59bcba11-a106-4f0d-a5ca-867138e440d5",
   "metadata": {},
   "source": [
    "The only reliable way to evaluate a recommender system is through A/B testing, as offline metrics often fail to capture real user preferences and context."
   ]
  },
  {
   "cell_type": "code",
   "execution_count": null,
   "id": "69760418-d6e4-4104-819f-460f3f96251d",
   "metadata": {},
   "outputs": [],
   "source": []
  }
 ],
 "metadata": {
  "kernelspec": {
   "display_name": "Python 3 (ipykernel)",
   "language": "python",
   "name": "python3"
  },
  "language_info": {
   "codemirror_mode": {
    "name": "ipython",
    "version": 3
   },
   "file_extension": ".py",
   "mimetype": "text/x-python",
   "name": "python",
   "nbconvert_exporter": "python",
   "pygments_lexer": "ipython3",
   "version": "3.9.13"
  }
 },
 "nbformat": 4,
 "nbformat_minor": 5
}
